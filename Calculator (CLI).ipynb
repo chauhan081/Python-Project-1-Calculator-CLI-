{
 "cells": [
  {
   "cell_type": "code",
   "execution_count": 1,
   "id": "413a5358-1e6a-4de4-bd0a-4a626fa0d395",
   "metadata": {},
   "outputs": [
    {
     "name": "stdout",
     "output_type": "stream",
     "text": [
      "=== Simple Calculator ===\n",
      "Choose operation:\n",
      "1. Add (+)\n",
      "2. Subtract (-)\n",
      "3. Multiply (*)\n",
      "4. Divide (/)\n"
     ]
    },
    {
     "name": "stdin",
     "output_type": "stream",
     "text": [
      "Enter your choice (+, -, *, /):  /\n",
      "Enter first number:  10000\n",
      "Enter second number:  12\n"
     ]
    },
    {
     "name": "stdout",
     "output_type": "stream",
     "text": [
      "Result: 833.3333333333334\n"
     ]
    }
   ],
   "source": [
    "def add(x, y):\n",
    "    return x + y\n",
    "\n",
    "def subtract(x, y):\n",
    "    return x - y\n",
    "\n",
    "def multiply(x, y):\n",
    "    return x * y\n",
    "\n",
    "def divide(x, y):\n",
    "    if y == 0:\n",
    "        return \"Error: Division by zero\"\n",
    "    return x / y\n",
    "\n",
    "print(\"=== Simple Calculator ===\")\n",
    "print(\"Choose operation:\")\n",
    "print(\"1. Add (+)\")\n",
    "print(\"2. Subtract (-)\")\n",
    "print(\"3. Multiply (*)\")\n",
    "print(\"4. Divide (/)\")\n",
    "\n",
    "op = input(\"Enter your choice (+, -, *, /): \")\n",
    "a = float(input(\"Enter first number: \"))\n",
    "b = float(input(\"Enter second number: \"))\n",
    "\n",
    "if op == '+':\n",
    "    result = add(a, b)\n",
    "elif op == '-':\n",
    "    result = subtract(a, b)\n",
    "elif op == '*':\n",
    "    result = multiply(a, b)\n",
    "elif op == '/':\n",
    "    result = divide(a, b)\n",
    "else:\n",
    "    result = \"Invalid operator\"\n",
    "\n",
    "print(\"Result:\", result)"
   ]
  },
  {
   "cell_type": "code",
   "execution_count": null,
   "id": "0aff0c08-68e2-43ce-9190-92d2ec4b826b",
   "metadata": {},
   "outputs": [],
   "source": []
  }
 ],
 "metadata": {
  "kernelspec": {
   "display_name": "Python 3 (ipykernel)",
   "language": "python",
   "name": "python3"
  },
  "language_info": {
   "codemirror_mode": {
    "name": "ipython",
    "version": 3
   },
   "file_extension": ".py",
   "mimetype": "text/x-python",
   "name": "python",
   "nbconvert_exporter": "python",
   "pygments_lexer": "ipython3",
   "version": "3.13.5"
  }
 },
 "nbformat": 4,
 "nbformat_minor": 5
}
